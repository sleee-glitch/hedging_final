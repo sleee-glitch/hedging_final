{
 "cells": [
  {
   "cell_type": "code",
   "execution_count": null,
   "metadata": {
    "collapsed": true
   },
   "outputs": [],
   "source": []
  },
  {
   "cell_type": "code",
   "execution_count": null,
   "outputs": [],
   "source": [
    "\n",
    "import numpy as np\n",
    "import matplotlib.pyplot as plt\n",
    "import random\n",
    "\n",
    "# Generate a 3x3 matrix where each element is a simple arithmetic pattern\n",
    "def generate_matrix():\n",
    "    base = random.randint(1, 10)\n",
    "    step_row = random.randint(1, 3)\n",
    "    step_col = random.randint(1, 3)\n",
    "\n",
    "    matrix = np.zeros((3, 3), dtype=int)\n",
    "    for i in range(3):\n",
    "        for j in range(3):\n",
    "            matrix[i, j] = base + i * step_row + j * step_col\n",
    "    return matrix\n",
    "\n",
    "# Generate choices (correct one + distractors)\n",
    "def generate_choices(correct_value):\n",
    "    choices = [correct_value]\n",
    "    while len(choices) < 4:\n",
    "        val = correct_value + random.randint(-5, 5)\n",
    "        if val not in choices and val > 0:\n",
    "            choices.append(val)\n",
    "    random.shuffle(choices)\n",
    "    return choices\n",
    "\n",
    "# Plot matrix with the bottom-right cell missing\n",
    "def plot_matrix_with_choices(matrix, choices):\n",
    "    fig, ax = plt.subplots()\n",
    "    ax.axis('off')\n",
    "\n",
    "    # Draw 3x3 grid with one missing cell\n",
    "    for i in range(3):\n",
    "        for j in range(3):\n",
    "            if i == 2 and j == 2:\n",
    "                ax.text(j, 2-i, '?', ha='center', va='center', fontsize=20, bbox=dict(boxstyle='round', facecolor='lightgray'))\n",
    "            else:\n",
    "                ax.text(j, 2-i, str(matrix[i, j]), ha='center', va='center', fontsize=20, bbox=dict(boxstyle='round', facecolor='white'))\n",
    "\n",
    "    plt.xlim(-0.5, 2.5)\n",
    "    plt.ylim(-0.5, 2.5)\n",
    "    plt.title(\"Which number fits in the missing cell?\", fontsize=14)\n",
    "    plt.show()\n",
    "\n",
    "    # Show answer choices\n",
    "    print(\"Choices:\")\n",
    "    for idx, choice in enumerate(choices):\n",
    "        print(f\"{chr(65 + idx)}. {choice}\")\n",
    "    print(\"Enter the letter of your choice:\")\n",
    "\n",
    "# Full test logic\n",
    "matrix = generate_matrix()\n",
    "correct = matrix[2, 2]\n",
    "choices = generate_choices(correct)\n",
    "\n",
    "plot_matrix_with_choices(matrix, choices)\n"
   ],
   "metadata": {
    "collapsed": false,
    "pycharm": {
     "is_executing": true
    }
   }
  }
 ],
 "metadata": {
  "kernelspec": {
   "display_name": "Python 3",
   "language": "python",
   "name": "python3"
  },
  "language_info": {
   "codemirror_mode": {
    "name": "ipython",
    "version": 2
   },
   "file_extension": ".py",
   "mimetype": "text/x-python",
   "name": "python",
   "nbconvert_exporter": "python",
   "pygments_lexer": "ipython2",
   "version": "2.7.6"
  }
 },
 "nbformat": 4,
 "nbformat_minor": 0
}
